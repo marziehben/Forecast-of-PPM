{
 "cells": [
  {
   "cell_type": "code",
   "execution_count": 19,
   "metadata": {},
   "outputs": [],
   "source": [
    "#import libraries\n",
    "from datetime import datetime\n",
    "import numpy as np\n",
    "import pandas as pd\n",
    "from sklearn.ensemble import RandomForestRegressor\n",
    "import gradio as gr\n",
    "import os\n",
    "import plotly.graph_objects as go"
   ]
  },
  {
   "cell_type": "code",
   "execution_count": 20,
   "metadata": {},
   "outputs": [
    {
     "name": "stdout",
     "output_type": "stream",
     "text": [
      "Running on local URL:  http://127.0.0.1:7860\n",
      "\n",
      "To create a public link, set `share=True` in `launch()`.\n"
     ]
    },
    {
     "data": {
      "text/html": [
       "<div><iframe src=\"http://127.0.0.1:7860/\" width=\"100%\" height=\"500\" allow=\"autoplay; camera; microphone; clipboard-read; clipboard-write;\" frameborder=\"0\" allowfullscreen></iframe></div>"
      ],
      "text/plain": [
       "<IPython.core.display.HTML object>"
      ]
     },
     "metadata": {},
     "output_type": "display_data"
    },
    {
     "name": "stderr",
     "output_type": "stream",
     "text": [
      "C:\\Users\\M\\AppData\\Local\\Temp\\ipykernel_13156\\3567669655.py:6: UserWarning: Could not infer format, so each element will be parsed individually, falling back to `dateutil`. To ensure parsing is consistent and as-expected, please specify a format.\n",
      "  ts['Date']=pd.to_datetime(ts['Date'])\n",
      "C:\\Users\\M\\AppData\\Local\\Temp\\ipykernel_13156\\3567669655.py:33: UserWarning: Could not infer format, so each element will be parsed individually, falling back to `dateutil`. To ensure parsing is consistent and as-expected, please specify a format.\n",
      "  predictions['Date']=pd.to_datetime(predictions['Date'])\n",
      "C:\\Users\\M\\AppData\\Local\\Temp\\ipykernel_13156\\3567669655.py:41: UserWarning: Could not infer format, so each element will be parsed individually, falling back to `dateutil`. To ensure parsing is consistent and as-expected, please specify a format.\n",
      "  df2['Date']=pd.to_datetime(df2['Date'])\n"
     ]
    },
    {
     "name": "stdout",
     "output_type": "stream",
     "text": [
      "         Date   PPM\n",
      "0  2018-10-01  2254\n",
      "1  2018-11-01  2249\n",
      "2  2018-12-01  2253\n",
      "3  2019-01-01  3108\n",
      "4  2019-02-01  3085\n",
      "..        ...   ...\n",
      "64 2024-02-01  3085\n",
      "65 2024-03-01  2831\n",
      "66 2024-04-01  2793\n",
      "67 2024-05-01  2483\n",
      "68 2024-06-01  1560\n",
      "\n",
      "[69 rows x 2 columns]\n",
      "         Date    PPM      origin\n",
      "0  2001-09-01  31610     status \n",
      "1  2001-10-01  36168     status \n",
      "2  2001-11-01  37043     status \n",
      "3  2001-12-01  27614     status \n",
      "4  2002-01-01  21201     status \n",
      "..        ...    ...         ...\n",
      "64 2024-02-01   3085  prediction\n",
      "65 2024-03-01   2831  prediction\n",
      "66 2024-04-01   2793  prediction\n",
      "67 2024-05-01   2483  prediction\n",
      "68 2024-06-01   1560  prediction\n",
      "\n",
      "[342 rows x 3 columns]\n"
     ]
    },
    {
     "name": "stderr",
     "output_type": "stream",
     "text": [
      "C:\\Users\\M\\AppData\\Local\\Temp\\ipykernel_13156\\3567669655.py:6: UserWarning: Could not infer format, so each element will be parsed individually, falling back to `dateutil`. To ensure parsing is consistent and as-expected, please specify a format.\n",
      "  ts['Date']=pd.to_datetime(ts['Date'])\n",
      "C:\\Users\\M\\AppData\\Local\\Temp\\ipykernel_13156\\3567669655.py:33: UserWarning: Could not infer format, so each element will be parsed individually, falling back to `dateutil`. To ensure parsing is consistent and as-expected, please specify a format.\n",
      "  predictions['Date']=pd.to_datetime(predictions['Date'])\n",
      "C:\\Users\\M\\AppData\\Local\\Temp\\ipykernel_13156\\3567669655.py:41: UserWarning: Could not infer format, so each element will be parsed individually, falling back to `dateutil`. To ensure parsing is consistent and as-expected, please specify a format.\n",
      "  df2['Date']=pd.to_datetime(df2['Date'])\n"
     ]
    },
    {
     "name": "stdout",
     "output_type": "stream",
     "text": [
      "         Date   PPM\n",
      "0  2016-07-01  6736\n",
      "1  2016-08-01  6947\n",
      "2  2016-09-01  7127\n",
      "3  2016-10-01  7064\n",
      "4  2016-11-01  7240\n",
      "..        ...   ...\n",
      "91 2024-02-01  6757\n",
      "92 2024-03-01  6482\n",
      "93 2024-04-01  7157\n",
      "94 2024-05-01  7640\n",
      "95 2024-06-01  6770\n",
      "\n",
      "[96 rows x 2 columns]\n",
      "         Date    PPM      origin\n",
      "0  2001-09-01  31610     status \n",
      "1  2001-10-01  36168     status \n",
      "2  2001-11-01  37043     status \n",
      "3  2001-12-01  27614     status \n",
      "4  2002-01-01  21201     status \n",
      "..        ...    ...         ...\n",
      "91 2024-02-01   6757  prediction\n",
      "92 2024-03-01   6482  prediction\n",
      "93 2024-04-01   7157  prediction\n",
      "94 2024-05-01   7640  prediction\n",
      "95 2024-06-01   6770  prediction\n",
      "\n",
      "[369 rows x 3 columns]\n",
      "Keyboard interruption in main thread... closing server.\n"
     ]
    },
    {
     "data": {
      "text/plain": []
     },
     "execution_count": 20,
     "metadata": {},
     "output_type": "execute_result"
    }
   ],
   "source": [
    "#define predictPPM \n",
    "def predictPPM(df, split):\n",
    "    ts= pd.read_csv('datappm.csv')\n",
    "    df2 =ts.copy()\n",
    "    ttSplit=split/100\n",
    "    ts['Date']=pd.to_datetime(ts['Date'])\n",
    "    ts.rename(columns={'#PPM':'PPM'},inplace=True)\n",
    "    ts=ts.set_index(['Date'])\n",
    "    ts['months'] = [x.month for x in ts.index]\n",
    "    ts['years'] = [x.year for x in ts.index]\n",
    "    ts.reset_index(drop=True, inplace=True)\n",
    "\n",
    "    # Split Data\n",
    "    X=ts.drop(\"PPM\",axis=1)\n",
    "    Y= ts[\"PPM\"]\n",
    "    X_train=X[:int (len(Y)*ttSplit)] \n",
    "    X_test=X[int(len(Y)*ttSplit):]\n",
    "    Y_train=Y[:int (len(Y)*ttSplit)] \n",
    "    Y_test=Y[int(len(Y)*ttSplit):]\n",
    "\n",
    "    # fit the model\n",
    "    rf = RandomForestRegressor()\n",
    "    rf.fit(X_train, Y_train)\n",
    "    \n",
    "    df1=df2.set_index(['Date'])\n",
    "    df1.rename(columns={'#PPM':'PPM'},inplace=True)\n",
    "    train=df1.PPM[:int (len(ts.PPM)*ttSplit)]\n",
    "    test=df1.PPM[int(len(ts.PPM)*ttSplit):]\n",
    "    preds=rf.predict(X_test).astype(int) \n",
    "    predictions=pd.DataFrame(preds,columns=['PPM'])\n",
    "    predictions.index=test.index\n",
    "    predictions.reset_index(inplace=True)\n",
    "    predictions['Date']=pd.to_datetime(predictions['Date'])\n",
    "    print(predictions)\n",
    "    \n",
    "    #combine all into one table\n",
    "    ts_df=df\n",
    "    train= ts_df[:int (len(ts_df)*ttSplit)]\n",
    "    test= ts_df[int(len(ts_df)*ttSplit):] \n",
    "\n",
    "    df2['Date']=pd.to_datetime(df2['Date'])\n",
    "    df2.rename(columns={'#PPM':'PPM'},inplace=True)\n",
    "    df3= predictions\n",
    "    df2['origin']='status '\n",
    "    df3['origin']='prediction'\n",
    "    df4=pd.concat([df2, df3])\n",
    "    print(df4)\n",
    "    return df4\n",
    "#define demo of gradio\n",
    "demo = gr.Interface(\n",
    "    fn =predictPPM,inputs = [gr.UploadButton(label=\"Input data for PPM TimeSeries\"),\n",
    "        gr.Slider(1, 100, value=75, step=1, label=\"Train test split percentage\"),\n",
    "    ],\n",
    "    outputs=gr.LinePlot(x='Date', y='PPM', color='origin')\n",
    ")\n",
    "demo.launch(debug=True)"
   ]
  }
 ],
 "metadata": {
  "kernelspec": {
   "display_name": "Python 3",
   "language": "python",
   "name": "python3"
  },
  "language_info": {
   "codemirror_mode": {
    "name": "ipython",
    "version": 3
   },
   "file_extension": ".py",
   "mimetype": "text/x-python",
   "name": "python",
   "nbconvert_exporter": "python",
   "pygments_lexer": "ipython3",
   "version": "3.12.3"
  }
 },
 "nbformat": 4,
 "nbformat_minor": 2
}
